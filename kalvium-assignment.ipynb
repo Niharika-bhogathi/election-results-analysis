{
 "cells": [
  {
   "cell_type": "code",
   "execution_count": 69,
   "id": "799e61f2-880b-4a47-ad63-95840361318e",
   "metadata": {},
   "outputs": [],
   "source": [
    "import requests\n",
    "from bs4 import BeautifulSoup\n",
    "import pandas as pd"
   ]
  },
  {
   "cell_type": "code",
   "execution_count": 70,
   "id": "4bf11358-7394-4c0e-988d-51645826fdda",
   "metadata": {},
   "outputs": [],
   "source": [
    "# Function to scrape table data from a given URL\n",
    "def scrape_table(url):\n",
    "    response = requests.get(url)\n",
    "    soup = BeautifulSoup(response.content, 'html.parser')\n",
    "    tables = soup.find_all('table')\n",
    "\n",
    "    # Extract headers excluding the unwanted one\n",
    "    headers = [header.text.strip() for header in tables[0].find_all('th')]\n",
    "    if 'Status Known For 39 out of 39 Constituencies' in headers:\n",
    "        headers.remove('Status Known For 39 out of 39 Constituencies')\n",
    "    df = pd.DataFrame(columns=headers)\n",
    "\n",
    "    rows = tables[0].find_all('tr')\n",
    "    for row in rows[1:]:  # Skip the header row\n",
    "        cols = row.find_all('td')\n",
    "        row_data = [col.text.strip() for col in cols]\n",
    "\n",
    "        # Skip empty rows\n",
    "        if not row_data:\n",
    "            continue\n",
    "\n",
    "        # Handle mismatch in the number of columns and data elements\n",
    "        if len(row_data) == len(df.columns):\n",
    "            df.loc[len(df)] = row_data\n",
    "        else:\n",
    "            if len(row_data) < len(df.columns):\n",
    "                row_data.extend([None] * (len(df.columns) - len(row_data)))\n",
    "            elif len(row_data) > len(df.columns):\n",
    "                row_data = row_data[:len(df.columns)]\n",
    "            df.loc[len(df)] = row_data\n",
    "\n",
    "    return df\n",
    "\n",
    "# URLs of the HTML files\n",
    "url1 = \"https://results.eci.gov.in/PcResultGenJune2024/statewiseS221.htm\"\n",
    "url2 = \"https://results.eci.gov.in/PcResultGenJune2024/statewiseS222.htm\"\n",
    "\n",
    "# Scrape data from both URLs\n",
    "df1 = scrape_table(url1)\n",
    "df2 = scrape_table(url2)\n",
    "\n",
    "# Combine the dataframes\n",
    "combined_df = pd.concat([df1, df2], ignore_index=True)\n"
   ]
  },
  {
   "cell_type": "code",
   "execution_count": 31,
   "id": "2127952f-321b-4f8b-965b-3bb983635ffe",
   "metadata": {},
   "outputs": [
    {
     "data": {
      "text/html": [
       "<div>\n",
       "<style scoped>\n",
       "    .dataframe tbody tr th:only-of-type {\n",
       "        vertical-align: middle;\n",
       "    }\n",
       "\n",
       "    .dataframe tbody tr th {\n",
       "        vertical-align: top;\n",
       "    }\n",
       "\n",
       "    .dataframe thead th {\n",
       "        text-align: right;\n",
       "    }\n",
       "</style>\n",
       "<table border=\"1\" class=\"dataframe\">\n",
       "  <thead>\n",
       "    <tr style=\"text-align: right;\">\n",
       "      <th></th>\n",
       "      <th>Constituency</th>\n",
       "      <th>Const. No.</th>\n",
       "      <th>Leading Candidate</th>\n",
       "      <th>Leading Party</th>\n",
       "      <th>Trailing Candidate</th>\n",
       "      <th>Trailing Party</th>\n",
       "      <th>Margin</th>\n",
       "      <th>Status</th>\n",
       "      <th></th>\n",
       "    </tr>\n",
       "  </thead>\n",
       "  <tbody>\n",
       "    <tr>\n",
       "      <th>0</th>\n",
       "      <td>ARAKKONAM</td>\n",
       "      <td>7</td>\n",
       "      <td>S JAGATHRATCHAKAN</td>\n",
       "      <td>Dravida Munnetra KazhagamiParty Wise State Tre...</td>\n",
       "      <td>Dravida Munnetra Kazhagam</td>\n",
       "      <td>iParty Wise State TrendsLeading In:0Won In:22T...</td>\n",
       "      <td>Leading In</td>\n",
       "      <td>:</td>\n",
       "      <td>0</td>\n",
       "    </tr>\n",
       "    <tr>\n",
       "      <th>1</th>\n",
       "      <td>Dravida Munnetra Kazhagam</td>\n",
       "      <td>iParty Wise State TrendsLeading In:0Won In:22T...</td>\n",
       "      <td>Leading In</td>\n",
       "      <td>:</td>\n",
       "      <td>0</td>\n",
       "      <td>Won In</td>\n",
       "      <td>:</td>\n",
       "      <td>22</td>\n",
       "      <td>Trailing In</td>\n",
       "    </tr>\n",
       "    <tr>\n",
       "      <th>2</th>\n",
       "      <td>Leading In</td>\n",
       "      <td>:</td>\n",
       "      <td>0</td>\n",
       "      <td>None</td>\n",
       "      <td>None</td>\n",
       "      <td>None</td>\n",
       "      <td>None</td>\n",
       "      <td>None</td>\n",
       "      <td>None</td>\n",
       "    </tr>\n",
       "    <tr>\n",
       "      <th>3</th>\n",
       "      <td>Won In</td>\n",
       "      <td>:</td>\n",
       "      <td>22</td>\n",
       "      <td>None</td>\n",
       "      <td>None</td>\n",
       "      <td>None</td>\n",
       "      <td>None</td>\n",
       "      <td>None</td>\n",
       "      <td>None</td>\n",
       "    </tr>\n",
       "    <tr>\n",
       "      <th>4</th>\n",
       "      <td>Trailing In</td>\n",
       "      <td>:</td>\n",
       "      <td>0</td>\n",
       "      <td>None</td>\n",
       "      <td>None</td>\n",
       "      <td>None</td>\n",
       "      <td>None</td>\n",
       "      <td>None</td>\n",
       "      <td>None</td>\n",
       "    </tr>\n",
       "    <tr>\n",
       "      <th>...</th>\n",
       "      <td>...</td>\n",
       "      <td>...</td>\n",
       "      <td>...</td>\n",
       "      <td>...</td>\n",
       "      <td>...</td>\n",
       "      <td>...</td>\n",
       "      <td>...</td>\n",
       "      <td>...</td>\n",
       "      <td>...</td>\n",
       "    </tr>\n",
       "    <tr>\n",
       "      <th>346</th>\n",
       "      <td>Trailing In</td>\n",
       "      <td>:</td>\n",
       "      <td>0</td>\n",
       "      <td>None</td>\n",
       "      <td>None</td>\n",
       "      <td>None</td>\n",
       "      <td>None</td>\n",
       "      <td>None</td>\n",
       "      <td>None</td>\n",
       "    </tr>\n",
       "    <tr>\n",
       "      <th>347</th>\n",
       "      <td>Desiya Murpokku Dravida Kazhagam</td>\n",
       "      <td>iParty Wise State TrendsLeading In:0Won In:0Tr...</td>\n",
       "      <td>Leading In</td>\n",
       "      <td>:</td>\n",
       "      <td>0</td>\n",
       "      <td>Won In</td>\n",
       "      <td>:</td>\n",
       "      <td>0</td>\n",
       "      <td>Trailing In</td>\n",
       "    </tr>\n",
       "    <tr>\n",
       "      <th>348</th>\n",
       "      <td>Leading In</td>\n",
       "      <td>:</td>\n",
       "      <td>0</td>\n",
       "      <td>None</td>\n",
       "      <td>None</td>\n",
       "      <td>None</td>\n",
       "      <td>None</td>\n",
       "      <td>None</td>\n",
       "      <td>None</td>\n",
       "    </tr>\n",
       "    <tr>\n",
       "      <th>349</th>\n",
       "      <td>Won In</td>\n",
       "      <td>:</td>\n",
       "      <td>0</td>\n",
       "      <td>None</td>\n",
       "      <td>None</td>\n",
       "      <td>None</td>\n",
       "      <td>None</td>\n",
       "      <td>None</td>\n",
       "      <td>None</td>\n",
       "    </tr>\n",
       "    <tr>\n",
       "      <th>350</th>\n",
       "      <td>Trailing In</td>\n",
       "      <td>:</td>\n",
       "      <td>0</td>\n",
       "      <td>None</td>\n",
       "      <td>None</td>\n",
       "      <td>None</td>\n",
       "      <td>None</td>\n",
       "      <td>None</td>\n",
       "      <td>None</td>\n",
       "    </tr>\n",
       "  </tbody>\n",
       "</table>\n",
       "<p>351 rows × 9 columns</p>\n",
       "</div>"
      ],
      "text/plain": [
       "                         Constituency  \\\n",
       "0                           ARAKKONAM   \n",
       "1           Dravida Munnetra Kazhagam   \n",
       "2                          Leading In   \n",
       "3                              Won In   \n",
       "4                         Trailing In   \n",
       "..                                ...   \n",
       "346                       Trailing In   \n",
       "347  Desiya Murpokku Dravida Kazhagam   \n",
       "348                        Leading In   \n",
       "349                            Won In   \n",
       "350                       Trailing In   \n",
       "\n",
       "                                            Const. No.  Leading Candidate  \\\n",
       "0                                                    7  S JAGATHRATCHAKAN   \n",
       "1    iParty Wise State TrendsLeading In:0Won In:22T...         Leading In   \n",
       "2                                                    :                  0   \n",
       "3                                                    :                 22   \n",
       "4                                                    :                  0   \n",
       "..                                                 ...                ...   \n",
       "346                                                  :                  0   \n",
       "347  iParty Wise State TrendsLeading In:0Won In:0Tr...         Leading In   \n",
       "348                                                  :                  0   \n",
       "349                                                  :                  0   \n",
       "350                                                  :                  0   \n",
       "\n",
       "                                         Leading Party  \\\n",
       "0    Dravida Munnetra KazhagamiParty Wise State Tre...   \n",
       "1                                                    :   \n",
       "2                                                 None   \n",
       "3                                                 None   \n",
       "4                                                 None   \n",
       "..                                                 ...   \n",
       "346                                               None   \n",
       "347                                                  :   \n",
       "348                                               None   \n",
       "349                                               None   \n",
       "350                                               None   \n",
       "\n",
       "            Trailing Candidate  \\\n",
       "0    Dravida Munnetra Kazhagam   \n",
       "1                            0   \n",
       "2                         None   \n",
       "3                         None   \n",
       "4                         None   \n",
       "..                         ...   \n",
       "346                       None   \n",
       "347                          0   \n",
       "348                       None   \n",
       "349                       None   \n",
       "350                       None   \n",
       "\n",
       "                                        Trailing Party      Margin Status  \\\n",
       "0    iParty Wise State TrendsLeading In:0Won In:22T...  Leading In      :   \n",
       "1                                               Won In           :     22   \n",
       "2                                                 None        None   None   \n",
       "3                                                 None        None   None   \n",
       "4                                                 None        None   None   \n",
       "..                                                 ...         ...    ...   \n",
       "346                                               None        None   None   \n",
       "347                                             Won In           :      0   \n",
       "348                                               None        None   None   \n",
       "349                                               None        None   None   \n",
       "350                                               None        None   None   \n",
       "\n",
       "                  \n",
       "0              0  \n",
       "1    Trailing In  \n",
       "2           None  \n",
       "3           None  \n",
       "4           None  \n",
       "..           ...  \n",
       "346         None  \n",
       "347  Trailing In  \n",
       "348         None  \n",
       "349         None  \n",
       "350         None  \n",
       "\n",
       "[351 rows x 9 columns]"
      ]
     },
     "execution_count": 31,
     "metadata": {},
     "output_type": "execute_result"
    }
   ],
   "source": [
    "combined_df"
   ]
  },
  {
   "cell_type": "code",
   "execution_count": 43,
   "id": "801625c8-2eca-4dca-b115-170c34ecce73",
   "metadata": {},
   "outputs": [
    {
     "name": "stdout",
     "output_type": "stream",
     "text": [
      "Data saved to combined_election_results.csv\n"
     ]
    }
   ],
   "source": [
    "# Save to CSV\n",
    "combined_df.to_csv('combined_election_results.csv', index=False)\n",
    "print(\"Data saved to combined_election_results.csv\")\n"
   ]
  },
  {
   "cell_type": "code",
   "execution_count": 32,
   "id": "60260e69-0090-4a0b-beae-a3cf170b79d0",
   "metadata": {},
   "outputs": [
    {
     "name": "stdout",
     "output_type": "stream",
     "text": [
      "Basic Information:\n",
      "<class 'pandas.core.frame.DataFrame'>\n",
      "RangeIndex: 351 entries, 0 to 350\n",
      "Data columns (total 9 columns):\n",
      " #   Column              Non-Null Count  Dtype \n",
      "---  ------              --------------  ----- \n",
      " 0   Constituency        351 non-null    object\n",
      " 1   Const. No.          351 non-null    object\n",
      " 2   Leading Candidate   351 non-null    object\n",
      " 3   Leading Party       117 non-null    object\n",
      " 4   Trailing Candidate  117 non-null    object\n",
      " 5   Trailing Party      117 non-null    object\n",
      " 6   Margin              117 non-null    object\n",
      " 7   Status              117 non-null    object\n",
      " 8                       117 non-null    object\n",
      "dtypes: object(9)\n",
      "memory usage: 24.8+ KB\n",
      "None\n",
      "\n",
      "\n"
     ]
    }
   ],
   "source": [
    "print(\"Basic Information:\")\n",
    "print(combined_df.info())\n",
    "print(\"\\n\")"
   ]
  },
  {
   "cell_type": "code",
   "execution_count": 33,
   "id": "9444293b-b0d0-46a4-adef-a7c438cca5b7",
   "metadata": {},
   "outputs": [
    {
     "name": "stdout",
     "output_type": "stream",
     "text": [
      "Descriptive Statistics:\n",
      "       Constituency Const. No. Leading Candidate Leading Party  \\\n",
      "count           351        351               351           117   \n",
      "unique           55         45                45             8   \n",
      "top      Leading In          :                 0             :   \n",
      "freq             78        234               195            78   \n",
      "\n",
      "       Trailing Candidate Trailing Party Margin Status               \n",
      "count                 117            117    117    117          117  \n",
      "unique                  8              5      2      6            2  \n",
      "top                     0         Won In      :      :  Trailing In  \n",
      "freq                   78             78     78     39           78  \n",
      "\n",
      "\n"
     ]
    }
   ],
   "source": [
    "print(\"Descriptive Statistics:\")\n",
    "print(combined_df.describe(include='all'))\n",
    "print(\"\\n\")"
   ]
  },
  {
   "cell_type": "code",
   "execution_count": 35,
   "id": "3feb975f-e23c-4892-85b1-e300aed2ec9e",
   "metadata": {},
   "outputs": [
    {
     "name": "stdout",
     "output_type": "stream",
     "text": [
      "Missing Values:\n",
      "Constituency            0\n",
      "Const. No.              0\n",
      "Leading Candidate       0\n",
      "Leading Party         234\n",
      "Trailing Candidate    234\n",
      "Trailing Party        234\n",
      "Margin                234\n",
      "Status                234\n",
      "                      234\n",
      "dtype: int64\n",
      "\n",
      "\n"
     ]
    }
   ],
   "source": [
    "print(\"Missing Values:\")\n",
    "print(combined_df.isnull().sum())\n",
    "print(\"\\n\")"
   ]
  },
  {
   "cell_type": "code",
   "execution_count": 36,
   "id": "3859987c-f310-41f8-b0c5-32301e21b879",
   "metadata": {},
   "outputs": [
    {
     "name": "stdout",
     "output_type": "stream",
     "text": [
      "Unique Values:\n",
      "Constituency: 55 unique values\n",
      "Const. No.: 45 unique values\n",
      "Leading Candidate: 45 unique values\n",
      "Leading Party: 8 unique values\n",
      "Trailing Candidate: 8 unique values\n",
      "Trailing Party: 5 unique values\n",
      "Margin: 2 unique values\n",
      "Status: 6 unique values\n",
      ": 2 unique values\n",
      "\n",
      "\n"
     ]
    }
   ],
   "source": [
    "print(\"Unique Values:\")\n",
    "for column in combined_df.columns:\n",
    "    print(f\"{column}: {combined_df[column].nunique()} unique values\")\n",
    "\n",
    "print(\"\\n\")"
   ]
  },
  {
   "cell_type": "code",
   "execution_count": 37,
   "id": "3826009e-ba9c-46ea-990f-330e4dc37714",
   "metadata": {},
   "outputs": [
    {
     "name": "stdout",
     "output_type": "stream",
     "text": [
      "Leading Parties:\n",
      "Leading Party\n",
      ":                                                                                                  78\n",
      "Dravida Munnetra KazhagamiParty Wise State TrendsLeading In:0Won In:22Trailing In:0                22\n",
      "Indian National CongressiParty Wise State TrendsLeading In:0Won In:9Trailing In:0                   9\n",
      "Viduthalai Chiruthaigal KatchiiParty Wise State TrendsLeading In:0Won In:2Trailing In:0             2\n",
      "Communist Party of India  (Marxist)iParty Wise State TrendsLeading In:0Won In:2Trailing In:0        2\n",
      "Communist Party of IndiaiParty Wise State TrendsLeading In:0Won In:2Trailing In:0                   2\n",
      "Indian Union Muslim LeagueiParty Wise State TrendsLeading In:0Won In:1Trailing In:0                 1\n",
      "Marumalarchi Dravida Munnetra KazhagamiParty Wise State TrendsLeading In:0Won In:1Trailing In:0     1\n",
      "Name: count, dtype: int64\n",
      "\n",
      "\n"
     ]
    }
   ],
   "source": [
    "print(\"Leading Parties:\")\n",
    "print(combined_df['Leading Party'].value_counts())\n",
    "print(\"\\n\")"
   ]
  },
  {
   "cell_type": "code",
   "execution_count": 38,
   "id": "8809aa7e-f108-4787-9b8e-07d1dd2b0d91",
   "metadata": {},
   "outputs": [
    {
     "name": "stdout",
     "output_type": "stream",
     "text": [
      "Trailing Parties:\n",
      "Trailing Party\n",
      "Won In                                                        78\n",
      "iParty Wise State TrendsLeading In:0Won In:22Trailing In:0    22\n",
      "iParty Wise State TrendsLeading In:0Won In:9Trailing In:0      9\n",
      "iParty Wise State TrendsLeading In:0Won In:2Trailing In:0      6\n",
      "iParty Wise State TrendsLeading In:0Won In:1Trailing In:0      2\n",
      "Name: count, dtype: int64\n",
      "\n",
      "\n"
     ]
    }
   ],
   "source": [
    "print(\"Trailing Parties:\")\n",
    "print(combined_df['Trailing Party'].value_counts())\n",
    "print(\"\\n\")"
   ]
  },
  {
   "cell_type": "code",
   "execution_count": 39,
   "id": "928a9b21-e1c0-4507-89cd-37d697d73943",
   "metadata": {},
   "outputs": [
    {
     "name": "stdout",
     "output_type": "stream",
     "text": [
      "Margin Analysis:\n",
      "count    0.0\n",
      "mean     NaN\n",
      "std      NaN\n",
      "min      NaN\n",
      "25%      NaN\n",
      "50%      NaN\n",
      "75%      NaN\n",
      "max      NaN\n",
      "Name: Margin, dtype: float64\n",
      "\n",
      "\n"
     ]
    }
   ],
   "source": [
    "print(\"Margin Analysis:\")\n",
    "combined_df['Margin'] = pd.to_numeric(combined_df['Margin'], errors='coerce')  # Convert Margin to numeric\n",
    "print(combined_df['Margin'].describe())\n",
    "print(\"\\n\")"
   ]
  },
  {
   "cell_type": "code",
   "execution_count": 40,
   "id": "f55c6886-6d7d-4dcd-9f4e-22ed5e706c87",
   "metadata": {},
   "outputs": [
    {
     "name": "stdout",
     "output_type": "stream",
     "text": [
      "Status Analysis:\n",
      "Status\n",
      ":     39\n",
      "0     39\n",
      "22    22\n",
      "9      9\n",
      "2      6\n",
      "1      2\n",
      "Name: count, dtype: int64\n",
      "\n",
      "\n"
     ]
    }
   ],
   "source": [
    "print(\"Status Analysis:\")\n",
    "print(combined_df['Status'].value_counts())\n",
    "print(\"\\n\")"
   ]
  },
  {
   "cell_type": "code",
   "execution_count": 41,
   "id": "ce4652e2-dd75-42df-8312-783b69ddd770",
   "metadata": {},
   "outputs": [
    {
     "name": "stdout",
     "output_type": "stream",
     "text": [
      "Top 5 Constituencies with Largest Margin:\n",
      "                Constituency  Leading Candidate  \\\n",
      "0                  ARAKKONAM  S JAGATHRATCHAKAN   \n",
      "1  Dravida Munnetra Kazhagam         Leading In   \n",
      "2                 Leading In                  0   \n",
      "3                     Won In                 22   \n",
      "4                Trailing In                  0   \n",
      "\n",
      "                                       Leading Party  Margin  \n",
      "0  Dravida Munnetra KazhagamiParty Wise State Tre...     NaN  \n",
      "1                                                  :     NaN  \n",
      "2                                               None     NaN  \n",
      "3                                               None     NaN  \n",
      "4                                               None     NaN  \n",
      "\n",
      "\n"
     ]
    }
   ],
   "source": [
    "print(\"Top 5 Constituencies with Largest Margin:\")\n",
    "print(combined_df.nlargest(5, 'Margin')[['Constituency', 'Leading Candidate', 'Leading Party', 'Margin']])\n",
    "print(\"\\n\")"
   ]
  },
  {
   "cell_type": "code",
   "execution_count": 42,
   "id": "b3e83e58-db26-4dfd-af10-405807aaf2c2",
   "metadata": {},
   "outputs": [
    {
     "name": "stdout",
     "output_type": "stream",
     "text": [
      "Top 5 Constituencies with Smallest Margin:\n",
      "                Constituency  Leading Candidate  \\\n",
      "0                  ARAKKONAM  S JAGATHRATCHAKAN   \n",
      "1  Dravida Munnetra Kazhagam         Leading In   \n",
      "2                 Leading In                  0   \n",
      "3                     Won In                 22   \n",
      "4                Trailing In                  0   \n",
      "\n",
      "                                       Leading Party  Margin  \n",
      "0  Dravida Munnetra KazhagamiParty Wise State Tre...     NaN  \n",
      "1                                                  :     NaN  \n",
      "2                                               None     NaN  \n",
      "3                                               None     NaN  \n",
      "4                                               None     NaN  \n",
      "\n",
      "\n"
     ]
    }
   ],
   "source": [
    "print(\"Top 5 Constituencies with Smallest Margin:\")\n",
    "print(combined_df.nsmallest(5, 'Margin')[['Constituency', 'Leading Candidate', 'Leading Party', 'Margin']])\n",
    "print(\"\\n\")"
   ]
  },
  {
   "cell_type": "code",
   "execution_count": 44,
   "id": "3477be6b-7cb5-4a7d-af86-297d26f8d484",
   "metadata": {},
   "outputs": [
    {
     "name": "stderr",
     "output_type": "stream",
     "text": [
      "F:\\anaconda\\Lib\\site-packages\\seaborn\\_oldcore.py:1119: FutureWarning: use_inf_as_na option is deprecated and will be removed in a future version. Convert inf values to NaN before operating instead.\n",
      "  with pd.option_context('mode.use_inf_as_na', True):\n"
     ]
    },
    {
     "data": {
      "image/png": "[encoded data removed]",
      "text/plain": [
       "<Figure size 1000x600 with 1 Axes>"
      ]
     },
     "metadata": {},
     "output_type": "display_data"
    },
    {
     "data": {
      "image/png": "[encoded data removed]",
      "text/plain": [
       "<Figure size 1000x600 with 1 Axes>"
      ]
     },
     "metadata": {},
     "output_type": "display_data"
    },
    {
     "data": {
      "image/png": "[encoded data removed]",
      "text/plain": [
       "<Figure size 1000x600 with 1 Axes>"
      ]
     },
     "metadata": {},
     "output_type": "display_data"
    }
   ],
   "source": [
    "import matplotlib.pyplot as plt\n",
    "import seaborn as sns\n",
    "\n",
    "# Distribution of Margin\n",
    "plt.figure(figsize=(10, 6))\n",
    "sns.histplot(combined_df['Margin'], bins=30)\n",
    "plt.title('Distribution of Margin')\n",
    "plt.xlabel('Margin')\n",
    "plt.ylabel('Frequency')\n",
    "plt.show()\n",
    "\n",
    "# Leading Party Counts\n",
    "plt.figure(figsize=(10, 6))\n",
    "sns.countplot(y='Leading Party', data=combined_df, order=combined_df['Leading Party'].value_counts().index)\n",
    "plt.title('Count of Leading Parties')\n",
    "plt.xlabel('Count')\n",
    "plt.ylabel('Leading Party')\n",
    "plt.show()\n",
    "\n",
    "# Status Counts\n",
    "plt.figure(figsize=(10, 6))\n",
    "sns.countplot(x='Status', data=combined_df)\n",
    "plt.title('Count of Status')\n",
    "plt.xlabel('Status')\n",
    "plt.ylabel('Count')\n",
    "plt.show()\n"
   ]
  },
  {
   "cell_type": "code",
   "execution_count": 45,
   "id": "bce0a4c1-f2cf-4bbc-b2f8-0ed107b05fd1",
   "metadata": {},
   "outputs": [
    {
     "name": "stdout",
     "output_type": "stream",
     "text": [
      "Top 5 Constituencies with Largest Margin:\n",
      "                Constituency  Leading Candidate  \\\n",
      "0                  ARAKKONAM  S JAGATHRATCHAKAN   \n",
      "1  Dravida Munnetra Kazhagam         Leading In   \n",
      "2                 Leading In                  0   \n",
      "3                     Won In                 22   \n",
      "4                Trailing In                  0   \n",
      "\n",
      "                                       Leading Party  Margin  \n",
      "0  Dravida Munnetra KazhagamiParty Wise State Tre...     NaN  \n",
      "1                                                  :     NaN  \n",
      "2                                               None     NaN  \n",
      "3                                               None     NaN  \n",
      "4                                               None     NaN  \n",
      "\n",
      "\n"
     ]
    }
   ],
   "source": [
    "top_5_largest_margin = combined_df.nlargest(5, 'Margin')[['Constituency', 'Leading Candidate', 'Leading Party', 'Margin']]\n",
    "print(\"Top 5 Constituencies with Largest Margin:\")\n",
    "print(top_5_largest_margin)\n",
    "print(\"\\n\")"
   ]
  },
  {
   "cell_type": "code",
   "execution_count": 46,
   "id": "c98a0ecc-390d-49db-a63e-7d88bd508c8d",
   "metadata": {},
   "outputs": [
    {
     "name": "stdout",
     "output_type": "stream",
     "text": [
      "Top 5 Constituencies with Smallest Margin:\n",
      "                Constituency  Leading Candidate  \\\n",
      "0                  ARAKKONAM  S JAGATHRATCHAKAN   \n",
      "1  Dravida Munnetra Kazhagam         Leading In   \n",
      "2                 Leading In                  0   \n",
      "3                     Won In                 22   \n",
      "4                Trailing In                  0   \n",
      "\n",
      "                                       Leading Party  Margin  \n",
      "0  Dravida Munnetra KazhagamiParty Wise State Tre...     NaN  \n",
      "1                                                  :     NaN  \n",
      "2                                               None     NaN  \n",
      "3                                               None     NaN  \n",
      "4                                               None     NaN  \n",
      "\n",
      "\n"
     ]
    }
   ],
   "source": [
    "top_5_smallest_margin = combined_df.nsmallest(5, 'Margin')[['Constituency', 'Leading Candidate', 'Leading Party', 'Margin']]\n",
    "print(\"Top 5 Constituencies with Smallest Margin:\")\n",
    "print(top_5_smallest_margin)\n",
    "print(\"\\n\")"
   ]
  },
  {
   "cell_type": "code",
   "execution_count": 49,
   "id": "69ac2101-0c50-4933-97ac-34d284afd830",
   "metadata": {},
   "outputs": [
    {
     "name": "stdout",
     "output_type": "stream",
     "text": [
      "1. Total seats won by each party:\n",
      "                                       Leading Party  Seats Won\n",
      "0                                                  :         78\n",
      "1  Communist Party of India  (Marxist)iParty Wise...          2\n",
      "2  Communist Party of IndiaiParty Wise State Tren...          2\n",
      "3  Dravida Munnetra KazhagamiParty Wise State Tre...         22\n",
      "4  Indian National CongressiParty Wise State Tren...          9\n",
      "5  Indian Union Muslim LeagueiParty Wise State Tr...          1\n",
      "6  Marumalarchi Dravida Munnetra KazhagamiParty W...          1\n",
      "7  Viduthalai Chiruthaigal KatchiiParty Wise Stat...          2\n"
     ]
    }
   ],
   "source": [
    "# 1. Total seats won by each party\n",
    "total_seats_won = combined_df.groupby('Leading Party').size().reset_index(name='Seats Won')\n",
    "print(\"1. Total seats won by each party:\")\n",
    "print(total_seats_won)"
   ]
  },
  {
   "cell_type": "code",
   "execution_count": 58,
   "id": "d4ae2485-4b10-42b7-b83e-d028de3f1343",
   "metadata": {},
   "outputs": [
    {
     "name": "stdout",
     "output_type": "stream",
     "text": [
      "\n",
      "2. Top 5 constituencies with the largest winning margins:\n",
      "                Constituency  Leading Candidate  \\\n",
      "0                  ARAKKONAM  S JAGATHRATCHAKAN   \n",
      "1  Dravida Munnetra Kazhagam         Leading In   \n",
      "2                 Leading In                  0   \n",
      "3                     Won In                 22   \n",
      "4                Trailing In                  0   \n",
      "\n",
      "                                       Leading Party  Margin  \n",
      "0  Dravida Munnetra KazhagamiParty Wise State Tre...     NaN  \n",
      "1                                                  :     NaN  \n",
      "2                                               None     NaN  \n",
      "3                                               None     NaN  \n",
      "4                                               None     NaN  \n"
     ]
    }
   ],
   "source": [
    "# 2. Top 5 constituencies with the largest winning margins\n",
    "top_5_margins = combined_df.nlargest(5, 'Margin')[['Constituency', 'Leading Candidate', 'Leading Party', 'Margin']]\n",
    "print(\"\\n2. Top 5 constituencies with the largest winning margins:\")\n",
    "print(top_5_margins)\n",
    "\n"
   ]
  },
  {
   "cell_type": "code",
   "execution_count": 59,
   "id": "26a16fdf-3965-403e-bb4c-c17cbbf7408d",
   "metadata": {},
   "outputs": [
    {
     "name": "stdout",
     "output_type": "stream",
     "text": [
      "\n",
      "3. Average winning margin for each party:\n",
      "                                       Leading Party  Average Margin\n",
      "0                                                  :             NaN\n",
      "1  Communist Party of India  (Marxist)iParty Wise...             NaN\n",
      "2  Communist Party of IndiaiParty Wise State Tren...             NaN\n",
      "3  Dravida Munnetra KazhagamiParty Wise State Tre...             NaN\n",
      "4  Indian National CongressiParty Wise State Tren...             NaN\n",
      "5  Indian Union Muslim LeagueiParty Wise State Tr...             NaN\n",
      "6  Marumalarchi Dravida Munnetra KazhagamiParty W...             NaN\n",
      "7  Viduthalai Chiruthaigal KatchiiParty Wise Stat...             NaN\n"
     ]
    }
   ],
   "source": [
    "# 3. Average winning margin for each party\n",
    "average_margin_per_party = combined_df.groupby('Leading Party')['Margin'].mean().reset_index(name='Average Margin')\n",
    "print(\"\\n3. Average winning margin for each party:\")\n",
    "print(average_margin_per_party)\n",
    "\n"
   ]
  },
  {
   "cell_type": "code",
   "execution_count": 60,
   "id": "45eb82ca-7642-4ede-93d6-e4e847c6497b",
   "metadata": {},
   "outputs": [
    {
     "name": "stdout",
     "output_type": "stream",
     "text": [
      "\n",
      "4. Constituency with the smallest winning margin:\n",
      "  Constituency  Leading Candidate  \\\n",
      "0    ARAKKONAM  S JAGATHRATCHAKAN   \n",
      "\n",
      "                                       Leading Party  Margin  \n",
      "0  Dravida Munnetra KazhagamiParty Wise State Tre...     NaN  \n"
     ]
    }
   ],
   "source": [
    "# 4. Constituency with the smallest winning margin\n",
    "smallest_margin = combined_df.nsmallest(1, 'Margin')[['Constituency', 'Leading Candidate', 'Leading Party', 'Margin']]\n",
    "\n",
    "print(\"\\n4. Constituency with the smallest winning margin:\")\n",
    "print(smallest_margin)\n",
    "\n"
   ]
  },
  {
   "cell_type": "code",
   "execution_count": 61,
   "id": "30e438e1-d521-43da-ab63-5f3a5217b4dd",
   "metadata": {},
   "outputs": [
    {
     "name": "stdout",
     "output_type": "stream",
     "text": [
      "\n",
      "5. Number of constituencies contested by each party:\n",
      "                                       Leading Party  Contested Constituencies\n",
      "0                                                  :                        78\n",
      "1  Communist Party of India  (Marxist)iParty Wise...                         2\n",
      "2  Communist Party of IndiaiParty Wise State Tren...                         2\n",
      "3  Dravida Munnetra KazhagamiParty Wise State Tre...                        22\n",
      "4  Indian National CongressiParty Wise State Tren...                         9\n",
      "5  Indian Union Muslim LeagueiParty Wise State Tr...                         1\n",
      "6  Marumalarchi Dravida Munnetra KazhagamiParty W...                         1\n",
      "7  Viduthalai Chiruthaigal KatchiiParty Wise Stat...                         2\n"
     ]
    }
   ],
   "source": [
    "# 5. Number of constituencies contested by each party\n",
    "contested_constituencies = combined_df.groupby('Leading Party').size().reset_index(name='Contested Constituencies')\n",
    "print(\"\\n5. Number of constituencies contested by each party:\")\n",
    "print(contested_constituencies)\n"
   ]
  },
  {
   "cell_type": "code",
   "execution_count": 62,
   "id": "862406f7-fae1-4f9a-ae7c-31172e19279b",
   "metadata": {},
   "outputs": [
    {
     "name": "stdout",
     "output_type": "stream",
     "text": [
      "\n",
      "6. Party with the highest number of wins: :\n",
      "Party with the lowest number of wins: Indian Union Muslim LeagueiParty Wise State TrendsLeading In:0Won In:1Trailing In:0\n"
     ]
    }
   ],
   "source": [
    "# 6. Parties with the highest and lowest number of wins\n",
    "party_wins = combined_df['Leading Party'].value_counts()\n",
    "highest_wins_party = party_wins.idxmax()\n",
    "lowest_wins_party = party_wins.idxmin()\n",
    "print(\"\\n6. Party with the highest number of wins:\", highest_wins_party)\n",
    "print(\"Party with the lowest number of wins:\", lowest_wins_party)"
   ]
  },
  {
   "cell_type": "code",
   "execution_count": 63,
   "id": "73006c31-7450-4060-a816-71d2b22a70fe",
   "metadata": {},
   "outputs": [
    {
     "name": "stdout",
     "output_type": "stream",
     "text": [
      "\n",
      "7. Winning margin statistics (mean, median, max, min):\n",
      "    index  Statistic Value\n",
      "0    mean              NaN\n",
      "1  median              NaN\n",
      "2     max              NaN\n",
      "3     min              NaN\n"
     ]
    }
   ],
   "source": [
    "# 7. Winning margin statistics (mean, median, max, min)\n",
    "margin_statistics = combined_df['Margin'].agg(['mean', 'median', 'max', 'min']).reset_index(name='Statistic Value')\n",
    "print(\"\\n7. Winning margin statistics (mean, median, max, min):\")\n",
    "print(margin_statistics)\n"
   ]
  },
  {
   "cell_type": "code",
   "execution_count": 66,
   "id": "bc209a31-1c9b-44ba-b4b7-2569f9706e53",
   "metadata": {},
   "outputs": [
    {
     "name": "stdout",
     "output_type": "stream",
     "text": [
      "\n",
      "8. Number of constituencies where the margin was less than 5000 votes: 0\n"
     ]
    }
   ],
   "source": [
    "# 8. Number of constituencies where the margin was less than 5000 votes\n",
    "close_contests = combined_df[combined_df['Margin'] < 5000].shape[0]\n",
    "print(\"\\n8. Number of constituencies where the margin was less than 5000 votes:\", close_contests)"
   ]
  },
  {
   "cell_type": "code",
   "execution_count": 68,
   "id": "a82e7f81-7f86-45b1-a549-f02721742856",
   "metadata": {},
   "outputs": [
    {
     "name": "stdout",
     "output_type": "stream",
     "text": [
      "\n",
      "10. Number of seats won by new/emerging parties: 0\n"
     ]
    }
   ],
   "source": [
    "# 9. Number of seats won by new/emerging parties (assuming `Emerging Parties` list is available)\n",
    "emerging_parties = ['Viduthalai Chiruthaigal Katchi', 'Communist Party of India']  \n",
    "seats_won_by_emerging = combined_df[combined_df['Leading Party'].isin(emerging_parties)].shape[0]\n",
    "print(\"\\n9. Number of seats won by new/emerging parties:\", seats_won_by_emerging)"
   ]
  }
 ],
 "metadata": {
  "kernelspec": {
   "display_name": "Python 3 (ipykernel)",
   "language": "python",
   "name": "python3"
  },
  "language_info": {
   "codemirror_mode": {
    "name": "ipython",
    "version": 3
   },
   "file_extension": ".py",
   "mimetype": "text/x-python",
   "name": "python",
   "nbconvert_exporter": "python",
   "pygments_lexer": "ipython3",
   "version": "3.11.7"
  }
 },
 "nbformat": 4,
 "nbformat_minor": 5
}
